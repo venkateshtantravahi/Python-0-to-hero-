{
 "cells": [
  {
   "cell_type": "markdown",
   "metadata": {},
   "source": [
    "# SQLite3  \n",
    "## A DB-API for SQLite database"
   ]
  },
  {
   "cell_type": "markdown",
   "metadata": {},
   "source": [
    "SQLite is a C based library that provides a light-weighted disk based database that doesn't require a \n",
    "seperate server process that allow access to database. It's built-in library in python, The sqlite3 module was written by Gerhard Häring. It provides a SQL interface compliant with the DB-API 2.0 specification described by <a href = \"https://www.python.org/dev/peps/pep-0249\">PEP 249</a>, and requires SQLite 3.7.15 or newer.\n",
    "\n",
    "It's possible to create our prototypes with SQLite3 as our base db and later we can port to larger db's like PostgreSQl/Oracle."
   ]
  },
  {
   "cell_type": "markdown",
   "metadata": {},
   "source": [
    "# Connection API"
   ]
  },
  {
   "cell_type": "code",
   "execution_count": 2,
   "metadata": {},
   "outputs": [],
   "source": [
    "#To use the module, you must first create a Connection object that \n",
    "# represents the database. Here the data will be stored in the example.db file:\n",
    "import sqlite3\n",
    "con = sqlite3.connect('expl.db')\n",
    "# You can also give (:memory:) to create in-ram db"
   ]
  },
  {
   "cell_type": "markdown",
   "metadata": {},
   "source": [
    " Once you created connection, next step is to create cursor object where we can call its execute\n",
    " method to perform SQL commands.\n",
    "\n",
    " Here , Cursor is like a physical work-area or row pointing our table inside database. So that when we execute any command it will retrieve data row wise."
   ]
  },
  {
   "cell_type": "code",
   "execution_count": 3,
   "metadata": {},
   "outputs": [],
   "source": [
    "cur = con.cursor()\n",
    "\n",
    "# Create table\n",
    "cur.execute('''CREATE TABLE stocks\n",
    "               (date text, trans text, symbol text, qty real, price real)''')\n",
    "\n",
    "# Insert a row of data\n",
    "cur.execute(\"INSERT INTO stocks VALUES ('2006-01-05','BUY','RHAT',100,35.14)\")\n",
    "\n",
    "# Save (commit) the changes\n",
    "con.commit()\n",
    "\n",
    "# We can also close the connection if we are done with it.\n",
    "# Just be sure any changes have been committed or they will be lost.\n",
    "# con.close()"
   ]
  },
  {
   "cell_type": "markdown",
   "metadata": {},
   "source": [
    "The Data which we have saved in the memory or in the file is persistant and it can be available any time when you retrieve them."
   ]
  },
  {
   "cell_type": "code",
   "execution_count": 4,
   "metadata": {},
   "outputs": [
    {
     "name": "stdout",
     "output_type": "stream",
     "text": [
      "('2006-01-05', 'BUY', 'RHAT', 100.0, 35.14)\n"
     ]
    }
   ],
   "source": [
    "for row in cur.execute('SELECT * FROM stocks ORDER BY price'):\n",
    "    print(row)"
   ]
  },
  {
   "cell_type": "code",
   "execution_count": 5,
   "metadata": {},
   "outputs": [
    {
     "name": "stdout",
     "output_type": "stream",
     "text": [
      "('C', 1972)\n",
      "[]\n"
     ]
    }
   ],
   "source": [
    "# Basic db api for creating and retrieving data \n",
    "\n",
    "connection = sqlite3.connect(\":memory:\")\n",
    "cursr = connection.cursor()\n",
    "cursr.execute(\"create table lang (name, first_appeared)\")\n",
    "\n",
    "# This is the qmark style:\n",
    "cursr.execute(\"insert into lang values (?, ?)\", (\"C\", 1972))\n",
    "\n",
    "# The qmark style used with executemany():\n",
    "lang_list = [\n",
    "    (\"Fortran\", 1957),\n",
    "    (\"Python\", 1991),\n",
    "    (\"Go\", 2009),\n",
    "]\n",
    "cursr.executemany(\"insert into lang values (?, ?)\", lang_list)\n",
    "\n",
    "# And this is the named style:\n",
    "cursr.execute(\"select * from lang where first_appeared=:year\", {\"year\": 1972})\n",
    "print(cursr.fetchone())\n",
    "print(cursr.fetchall())\n",
    "\n",
    "connection.close()"
   ]
  },
  {
   "cell_type": "markdown",
   "metadata": {},
   "source": [
    "# SQL and Python Types\n",
    "***\n",
    "The following Python types can thus be sent to SQLite\n",
    "<div align=\"center\">\n",
    "\n",
    "| Python | SQLite3 |\n",
    "|-----|--------|\n",
    "| None | NULL |\n",
    "| int | INTEGER |\n",
    "| float | REAL |\n",
    "| str | TEXT |\n",
    "| bytes | BLOB |\n",
    "\n",
    "</div>\n",
    "\n",
    "*** \n",
    "\n",
    "SQLite3 System much extensible, as we can even store additional python types using adaption , and let sqlite to convert using convertors. \n",
    "\n",
    "As described before, SQLite supports only a limited set of types natively. To use other Python types with SQLite, you must adapt them to one of the sqlite3 module’s supported types for SQLite: one of NoneType, int, float, str, bytes.\n",
    "\n",
    "There are two ways to enable the sqlite3 module to adapt a custom Python type to one of the supported ones."
   ]
  },
  {
   "cell_type": "code",
   "execution_count": 6,
   "metadata": {},
   "outputs": [
    {
     "name": "stdout",
     "output_type": "stream",
     "text": [
      "4.000000;-3.200000\n"
     ]
    }
   ],
   "source": [
    "# Letting your object adapt itself \n",
    "\n",
    "class Point:\n",
    "    def __init__(self, x, y):\n",
    "        self.x, self.y = x, y\n",
    "\n",
    "    def __conform__(self, protocol):\n",
    "        if protocol is sqlite3.PrepareProtocol:\n",
    "            return \"%f;%f\" % (self.x, self.y)\n",
    "\n",
    "con = sqlite3.connect(\":memory:\")\n",
    "cur = con.cursor()\n",
    "\n",
    "p = Point(4.0, -3.2)\n",
    "cur.execute(\"select ?\", (p,))\n",
    "print(cur.fetchone()[0])\n",
    "\n",
    "con.close()"
   ]
  },
  {
   "cell_type": "code",
   "execution_count": 7,
   "metadata": {},
   "outputs": [
    {
     "name": "stdout",
     "output_type": "stream",
     "text": [
      "4.000000;-3.200000\n"
     ]
    }
   ],
   "source": [
    "# Registering an adapter callable\n",
    "# The other possibility is to create a function that converts the type to the \n",
    "# string representation and register the function with register_adapter().\n",
    "\n",
    "class Pnt:\n",
    "    def __init__(self, x, y):\n",
    "        self.x, self.y = x, y\n",
    "\n",
    "def adapt_point(point):\n",
    "    return \"%f;%f\" % (point.x, point.y)\n",
    "\n",
    "sqlite3.register_adapter(Pnt, adapt_point)\n",
    "\n",
    "con = sqlite3.connect(\":memory:\")\n",
    "cur = con.cursor()\n",
    "\n",
    "p = Pnt(4.0, -3.2)\n",
    "cur.execute(\"select ?\", (p,))\n",
    "print(cur.fetchone()[0])\n",
    "\n",
    "con.close()"
   ]
  },
  {
   "cell_type": "markdown",
   "metadata": {},
   "source": [
    "## Some Shortcut Methods"
   ]
  },
  {
   "cell_type": "code",
   "execution_count": 8,
   "metadata": {},
   "outputs": [
    {
     "name": "stdout",
     "output_type": "stream",
     "text": [
      "('C++', 1985)\n",
      "('Objective-C', 1984)\n",
      "I just deleted 2 rows\n"
     ]
    }
   ],
   "source": [
    "#Using the nonstandard execute(), executemany() and executescript() methods of the \n",
    "# Connection object, your code can be written more concisely because you don’t have to \n",
    "# create the (often superfluous) Cursor objects explicitly. Instead, \n",
    "# the Cursor objects are created implicitly and these shortcut methods return the cursor objects.\n",
    "\n",
    "langs = [\n",
    "    (\"C++\", 1985),\n",
    "    (\"Objective-C\", 1984),\n",
    "]\n",
    "\n",
    "con = sqlite3.connect(\":memory:\")\n",
    "\n",
    "# Create the table\n",
    "con.execute(\"create table lang(name, first_appeared)\")\n",
    "\n",
    "# Fill the table\n",
    "con.executemany(\"insert into lang(name, first_appeared) values (?, ?)\", langs)\n",
    "\n",
    "# Print the table contents\n",
    "for row in con.execute(\"select name, first_appeared from lang\"):\n",
    "    print(row)\n",
    "\n",
    "print(\"I just deleted\", con.execute(\"delete from lang\").rowcount, \"rows\")\n",
    "\n",
    "# close is not a shortcut method and it's not called automatically,\n",
    "# so the connection object should be closed manually\n",
    "con.close()"
   ]
  },
  {
   "cell_type": "code",
   "execution_count": 9,
   "metadata": {},
   "outputs": [],
   "source": [
    "# Accessing columns by names \n",
    "con = sqlite3.connect(\":memory:\")\n",
    "con.row_factory = sqlite3.Row\n",
    "\n",
    "cur = con.cursor()\n",
    "cur.execute(\"select 'John' as name, 42 as age\")\n",
    "for row in cur:\n",
    "    assert row[0] == row[\"name\"]\n",
    "    assert row[\"name\"] == row[\"nAmE\"]\n",
    "    assert row[1] == row[\"age\"]\n",
    "    assert row[1] == row[\"AgE\"]\n",
    "\n",
    "con.close()"
   ]
  },
  {
   "cell_type": "markdown",
   "metadata": {},
   "source": [
    "# CRUD OPERATIONS "
   ]
  },
  {
   "cell_type": "code",
   "execution_count": 13,
   "metadata": {},
   "outputs": [
    {
     "name": "stdout",
     "output_type": "stream",
     "text": [
      "[(1, 'John', '001', 'Bangalore', '10th'), (2, 'Naren', '002', 'Hyd', '12th'), (3, 'Jax', '003', 'Delhi', '9th')]\n",
      "[(1, 'John', '5', 'Bangalore', '10th'), (2, 'Naren', '002', 'Hyd', '12th'), (3, 'Jax', '003', 'Delhi', '9th')]\n"
     ]
    }
   ],
   "source": [
    "# creating,read,update, delete table in database\n",
    "\n",
    "#connect to sqlite db\n",
    "conn = sqlite3.connect(\":memory:\")\n",
    "#create a cursor obj\n",
    "cur = conn.cursor()\n",
    "# drop query   \n",
    "cur.execute(\"DROP TABLE IF EXISTS STUDENT\")\n",
    "\n",
    "# create query \n",
    "query = '''CREATE TABLE STUDENT(\n",
    "    ID INT PRIMARY KEY NOT NULL,\n",
    "    NAME CHAR(20) NOT NULL,\n",
    "    ROLL CHAR(20),\n",
    "    ADDRESS CHAR(50), \n",
    "    CLASS CHAR(20)\n",
    ")'''\n",
    "cur.execute(query)\n",
    "conn.commit()\n",
    "\n",
    "#static insertion\n",
    "conn.execute(\"INSERT INTO STUDENT (ID,NAME,ROLL,ADDRESS,CLASS) \"\n",
    "             \"VALUES (1, 'John', '001', 'Bangalore', '10th')\")\n",
    "conn.execute(\"INSERT INTO STUDENT (ID,NAME,ROLL,ADDRESS,CLASS) \"\n",
    "             \"VALUES (2, 'Naren', '002', 'Hyd', '12th')\")\n",
    "conn.commit()\n",
    "# param/args insert\n",
    "query = ('INSERT INTO STUDENT (ID,NAME,ROLL,ADDRESS,CLASS) '\n",
    "         'VALUES (:ID, :NAME, :ROLL, :ADDRESS, :CLASS);')\n",
    "params = {\n",
    "        'ID': 3,\n",
    "        'NAME': 'Jax',\n",
    "        'ROLL': '003',\n",
    "        'ADDRESS': 'Delhi',\n",
    "        'CLASS': '9th'\n",
    "    }\n",
    "conn.execute(query, params)\n",
    "conn.commit()\n",
    "\n",
    "cur.execute('SELECT * FROM STUDENT')\n",
    "print(cur.fetchall())\n",
    "\n",
    "cur.execute(\"UPDATE STUDENT set ROLL = 005 where ID = 1\")\n",
    "cur.execute('SELECT * FROM STUDENT')\n",
    "print(cur.fetchall())\n",
    "\n",
    "conn.close()"
   ]
  },
  {
   "cell_type": "markdown",
   "metadata": {},
   "source": [
    "Apart from creating our own statements to read and print to just alone work with sql files generated we can use the <a href=\"https://sqliteonline.com/\" alt=\"sql_online_interpretor\">SQLiteonline</a> site."
   ]
  },
  {
   "cell_type": "markdown",
   "metadata": {},
   "source": []
  }
 ],
 "metadata": {
  "interpreter": {
   "hash": "5087a77f59b9e5a7723a89f63266c76e32ae22d57074be8c99ebe18ac2993414"
  },
  "kernelspec": {
   "display_name": "Python 3.8.8 64-bit",
   "name": "python3"
  },
  "language_info": {
   "codemirror_mode": {
    "name": "ipython",
    "version": 3
   },
   "file_extension": ".py",
   "mimetype": "text/x-python",
   "name": "python",
   "nbconvert_exporter": "python",
   "pygments_lexer": "ipython3",
   "version": "3.8.8"
  },
  "orig_nbformat": 4
 },
 "nbformat": 4,
 "nbformat_minor": 2
}
