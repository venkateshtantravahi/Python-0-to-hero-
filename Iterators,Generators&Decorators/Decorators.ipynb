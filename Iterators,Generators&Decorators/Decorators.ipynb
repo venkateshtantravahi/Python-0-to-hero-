{
 "cells": [
  {
   "cell_type": "markdown",
   "metadata": {},
   "source": [
    "# What Is Decorator In Python?\n",
    "Decorator is one of the coolest features of python, as the name suggests decorator is kind of for decorating something, which exists previously. A decorator is used for manipulating (adding, removing, or modifying features) the pre-existing functions or their output. It takes a function as an input, makes some changes, and returns it. \n",
    "\n",
    "If you are having a hard time understanding this, then let’s go to the analog world and see what we can relate this to. So, here’s an analogy, suppose you have some cold water (pre-existing function) and you don’t like that, instead of that you want some warm water. So, what you will do is that you will pass it to a water heater (decorator) which will take your water (pre-existing function), turn it into warm water (make some changes) and finally return you some warm water. And Voila! This is all a decorator does\n",
    "\n",
    "And this kind of behavior where a part of the program tries to modify another part of the program at the time of compilation is also known as metaprogramming."
   ]
  },
  {
   "cell_type": "markdown",
   "metadata": {},
   "source": [
    "# Why Do We Need Decorator?\n",
    "Till the point, you might have understood that a decorator is something that takes a function as input, makes some changes, and returns it. But the question arises why we need it.  The reason is we don’t always have access to pre-existing function’s code or imagine if you have written thousands or ten thousands of lines of code will you be able to navigate to that function easily, no right!\n",
    "\n",
    "So, to address those problems our python uncle has added this nice feature. "
   ]
  },
  {
   "cell_type": "markdown",
   "metadata": {},
   "source": [
    "### Quick Re-call:\n",
    "    - Everything in python is considered as an object which includes function and class as well.\n",
    "    - A function can be stored in a variable\n",
    "    - A function can be passed as an input to another function\n",
    "    - A function can be returned as an output from another function\n",
    "    "
   ]
  },
  {
   "cell_type": "markdown",
   "metadata": {},
   "source": [
    "## How to use Decorators?\n",
    "So, as we know what and why about decorators, let's start with simple one"
   ]
  },
  {
   "cell_type": "code",
   "execution_count": 1,
   "metadata": {},
   "outputs": [
    {
     "data": {
      "text/plain": [
       "'Bob'"
      ]
     },
     "execution_count": 1,
     "metadata": {},
     "output_type": "execute_result"
    }
   ],
   "source": [
    "#This is a simple function that returns name \n",
    "def i_am():\n",
    "    return \"Bob\"\n",
    "i_am()"
   ]
  },
  {
   "cell_type": "markdown",
   "metadata": {},
   "source": [
    "Now we want to add some prefix to the name that is being returned by the function.But, the condition here is that we can't touch the original function. For that, we can use a decorator which will take the function *i_am* and will transform its output from *Bob* to *Mr. Bob*\n",
    "So this is a decorator which will take our original functioni as an input, then it will modify its output."
   ]
  },
  {
   "cell_type": "code",
   "execution_count": 2,
   "metadata": {},
   "outputs": [],
   "source": [
    "# decorator for prefixing 'Mr.'\n",
    "def mr_decor(func): #--------> It will take our original func(i_am) as an input\n",
    "    def inner(): #----------> this is one who is doing our actual job\n",
    "        return 'Mr.' + func() #----------> Performing Actual task and returning it\n",
    "    return inner #-----------> And it will return inner() function as output"
   ]
  },
  {
   "cell_type": "code",
   "execution_count": 3,
   "metadata": {},
   "outputs": [
    {
     "data": {
      "text/plain": [
       "'Mr.Bob'"
      ]
     },
     "execution_count": 3,
     "metadata": {},
     "output_type": "execute_result"
    }
   ],
   "source": [
    "# now let's use this decorator on our function\n",
    "\n",
    "decor = mr_decor(i_am) # calling decor \n",
    "decor()"
   ]
  },
  {
   "cell_type": "markdown",
   "metadata": {},
   "source": [
    "### How Does It Work?\n",
    "Let’s see how it works, we have a nested function here. \n",
    "Outer Function → The outer function ‘decorator’ takes a function as an argument (input) and returns the inner function object, that’s the only job of the outer function. Note that we are not calling functions while returning, we are just returning function objects, however, you can call it if you like to.\n",
    "Inner Function → Now let’s take a look at the inner function which is doing the actual job. So, it’s just printing a string along with calling the function a decorator got as an input. \n",
    "\n",
    "It’s as simple as that, did you find anything complex here, I hope you don’t. But In case you did, then the comment section is yours, just put your question over there and I will try my best to answer it.\n",
    "\n",
    "## Using Decorator With “@” Syntax\n",
    "Instead of assigning a function to a variable, passing its value, and then calling the function with that variable, we can use python simplified syntax. The thing we need to do is to just put “@decorator name” above our original function. And because of that, we don’t even need to call the decorator function, we can directly call our actual function, let’s see with the example"
   ]
  },
  {
   "cell_type": "code",
   "execution_count": 4,
   "metadata": {},
   "outputs": [
    {
     "data": {
      "text/plain": [
       "'Mr.Bob'"
      ]
     },
     "execution_count": 4,
     "metadata": {},
     "output_type": "execute_result"
    }
   ],
   "source": [
    "# So instead of calling our decorator we can simply put our decorator name with symbol @ , like '@mr_decor'\n",
    "@mr_decor #------> this is where we put @\n",
    "def i_am():\n",
    "    return 'Bob'\n",
    "i_am()\n",
    "\n",
    "#and now we dont need to call our decorator function\n",
    "i_am()"
   ]
  },
  {
   "cell_type": "markdown",
   "metadata": {},
   "source": [
    "### Using Decorator On function which takes parameters \n"
   ]
  },
  {
   "cell_type": "code",
   "execution_count": 5,
   "metadata": {},
   "outputs": [
    {
     "data": {
      "text/plain": [
       "'John'"
      ]
     },
     "execution_count": 5,
     "metadata": {},
     "output_type": "execute_result"
    }
   ],
   "source": [
    "#Let's think our project got upgraded and now it takes parameter name \n",
    "# Here it doesn't print default name but takes as input\n",
    "def i_am(name):\n",
    "    return name\n",
    "\n",
    "i_am('John')"
   ]
  },
  {
   "cell_type": "code",
   "execution_count": 6,
   "metadata": {},
   "outputs": [],
   "source": [
    "#our decorator function with parameters\n",
    "def mr_decor(func):\n",
    "    def inner(name):\n",
    "        return 'Mr.' + func(name)\n",
    "    return inner"
   ]
  },
  {
   "cell_type": "code",
   "execution_count": 7,
   "metadata": {},
   "outputs": [
    {
     "data": {
      "text/plain": [
       "'Mr.John'"
      ]
     },
     "execution_count": 7,
     "metadata": {},
     "output_type": "execute_result"
    }
   ],
   "source": [
    "@mr_decor\n",
    "def i_am(name):\n",
    "    return name\n",
    "\n",
    "i_am('John')"
   ]
  },
  {
   "cell_type": "code",
   "execution_count": 8,
   "metadata": {},
   "outputs": [
    {
     "data": {
      "text/plain": [
       "'Mr.John'"
      ]
     },
     "execution_count": 8,
     "metadata": {},
     "output_type": "execute_result"
    }
   ],
   "source": [
    "# If you want to call without @syntax\n",
    "def i_am(name):\n",
    "    return name\n",
    "\n",
    "decor = mr_decor(i_am) #calling mr_decor\n",
    "decor('John')"
   ]
  },
  {
   "cell_type": "markdown",
   "metadata": {},
   "source": [
    "## How Does It Work?\n",
    "As we know our outer function just takes a function and return function, so it’s still the same as it was. The changes we made are only in the inner function since our original function is taking argument we added parameter on an inner function which we are passing as an argument to our original function, which we are calling here “print(“Mr.”, func(name))”).\n",
    "\n",
    "## Can Decorators Have Its Own Parameter?\n",
    "We show how we can use a decorator if a function takes an argument, but is that possible that a decorator itself can take a parameter. Yes, it is, to show an example let’s say instead of prefixing name with “Mr.” by default I want to let the user decide what they want to prefix their name with. Or in simple words, we want to pass an argument to a decorator.\n",
    "So, let’s see how we can do that"
   ]
  },
  {
   "cell_type": "code",
   "execution_count": 9,
   "metadata": {},
   "outputs": [
    {
     "data": {
      "text/plain": [
       "'John'"
      ]
     },
     "execution_count": 9,
     "metadata": {},
     "output_type": "execute_result"
    }
   ],
   "source": [
    "#our functioin \n",
    "def i_am(name):\n",
    "    return name\n",
    "\n",
    "i_am('John')"
   ]
  },
  {
   "cell_type": "code",
   "execution_count": 10,
   "metadata": {},
   "outputs": [],
   "source": [
    "def argument(word): #--------> new Main function (takes our arguments)\n",
    "    def mr_decor(func): #---> our decorator\n",
    "        def inner(name):\n",
    "            return word + func(name)\n",
    "        return inner # ---> returning inner function\n",
    "    return mr_decor #--->our new main function returns mr_decorator"
   ]
  },
  {
   "cell_type": "code",
   "execution_count": 11,
   "metadata": {},
   "outputs": [
    {
     "data": {
      "text/plain": [
       "'Sir, John'"
      ]
     },
     "execution_count": 11,
     "metadata": {},
     "output_type": "execute_result"
    }
   ],
   "source": [
    "#here we will pass our main function name\n",
    "@argument('Sir, ')\n",
    "def i_am(name):\n",
    "    return name\n",
    "\n",
    "i_am('John')"
   ]
  },
  {
   "cell_type": "markdown",
   "metadata": {},
   "source": [
    "### Decorator Chain\n",
    "Till now we saw, what, why, and how of decorators, but do you know we can use multiple decorators on a single function at once, how? Let’s see that!\n",
    "Okay so, first we had a function which just prints our name then we modified its output by adding ‘Mr.’ to the output so, next our plan is to prefix our result with “Hi” so our final result will look something like this “Hi, Mr. John” from “Mr. John”.\n",
    "\n",
    "So lets start by creating our two decorator function, one for prefixing “Mr.” and other for prefixing “Hi, ” at the beginning."
   ]
  },
  {
   "cell_type": "code",
   "execution_count": 12,
   "metadata": {},
   "outputs": [],
   "source": [
    "def hi_decor(func): #---->second decorator\n",
    "    \"\"\"It will applied after 'mr_decor' and it will \n",
    "    prefix our original function's output with 'Hi, ' \"\"\"\n",
    "    def inner(name):\n",
    "        return \"Hi, \" + name\n",
    "    return inner\n",
    "\n",
    "def mr_decor(func): #----->first decorator\n",
    "    \"\"\"It will be applied first and it will prefix our \n",
    "    original functions outpur with 'Mr. '\"\"\"\n",
    "    def wrapper(name):\n",
    "        return 'Mr.' + name\n",
    "    return wrapper"
   ]
  },
  {
   "cell_type": "code",
   "execution_count": 13,
   "metadata": {},
   "outputs": [
    {
     "data": {
      "text/plain": [
       "'Hi, Venkat'"
      ]
     },
     "execution_count": 13,
     "metadata": {},
     "output_type": "execute_result"
    }
   ],
   "source": [
    "#without @ syntax\n",
    "def i_am(name):\n",
    "    return name\n",
    "\n",
    "# calling function\n",
    "mr = mr_decor(i_am)\n",
    "hi = hi_decor(mr)\n",
    "hi('Venkat')"
   ]
  },
  {
   "cell_type": "code",
   "execution_count": 14,
   "metadata": {},
   "outputs": [
    {
     "name": "stdout",
     "output_type": "stream",
     "text": [
      "Hi, Venkat\n"
     ]
    }
   ],
   "source": [
    "# with using @ syntax\n",
    "@hi_decor\n",
    "@mr_decor\n",
    "def i_am(name):\n",
    "    return name\n",
    "\n",
    "print(i_am('Venkat'))"
   ]
  },
  {
   "cell_type": "code",
   "execution_count": null,
   "metadata": {},
   "outputs": [],
   "source": []
  }
 ],
 "metadata": {
  "interpreter": {
   "hash": "434398e44183469e607e2a6981795099df29b4cddf5938cb48c3354932d31cfd"
  },
  "kernelspec": {
   "display_name": "Python 3.8.8 64-bit ('base': conda)",
   "name": "python3"
  },
  "language_info": {
   "codemirror_mode": {
    "name": "ipython",
    "version": 3
   },
   "file_extension": ".py",
   "mimetype": "text/x-python",
   "name": "python",
   "nbconvert_exporter": "python",
   "pygments_lexer": "ipython3",
   "version": "3.8.8"
  },
  "orig_nbformat": 4
 },
 "nbformat": 4,
 "nbformat_minor": 2
}
