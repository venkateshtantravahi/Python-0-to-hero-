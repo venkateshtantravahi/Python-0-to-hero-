{
 "cells": [
  {
   "cell_type": "markdown",
   "source": [
    "# What Are Iterators?\r\n",
    "An Iterator is an object which can be iterated upon which means it can explore all values one by one. You can think of it as an object which holds more than one value and their value can be iterated (printed or used) one by one is called an iterator. For example lists, tuple, sets, dictionary, etc. are all examples of iterators.\r\n",
    "To create an iterator object you have to implement the two methods __iter__() and __next__() to your object. These methods are collectively called Iterator protocol.\r\n",
    "\r\n",
    "__iter__() method is called by iter() function, which returns the iterator object itself. This iterator object then can be used with for loop or in statements\r\n",
    "\r\n",
    "__next__() method returns the next value of the iterator. If there is no more value to return, the StopIteration exception will be raised."
   ],
   "metadata": {}
  },
  {
   "cell_type": "markdown",
   "source": [
    "# Example Of Iterator\r\n",
    "So, we look at a simple iterator example with a for loop, first we will create a list which is an iterator object, then inside a list we will call next() function to get the all values of the list one by one."
   ],
   "metadata": {}
  },
  {
   "cell_type": "code",
   "execution_count": 1,
   "source": [
    "lst = [1, 2, 3]\r\n",
    "iterator = iter(lst)\r\n",
    "\r\n",
    "print(next(iterator))\r\n",
    "print(next(iterator))\r\n",
    "print(next(iterator))\r\n",
    "\r\n",
    "# or you can also use\r\n",
    "print('\\nIterating using for loop', sep='')\r\n",
    "\r\n",
    "for i in lst:\r\n",
    "    print(i)"
   ],
   "outputs": [
    {
     "output_type": "stream",
     "name": "stdout",
     "text": [
      "1\n",
      "2\n",
      "3\n",
      "\n",
      "Iterating using for loop\n",
      "1\n",
      "2\n",
      "3\n"
     ]
    }
   ],
   "metadata": {}
  },
  {
   "cell_type": "code",
   "execution_count": 3,
   "source": [
    "# Behind the scenes, this for loop actually creates an iterator object by calling the iter() function on our iterable object. \r\n",
    "# create an iterator object from that iterable\r\n",
    "iter_obj = iter(lst)\r\n",
    "\r\n",
    "# infinite loop\r\n",
    "while True:\r\n",
    "    try:\r\n",
    "        # get the next item\r\n",
    "        element = next(iter_obj)\r\n",
    "        # do something with element\r\n",
    "    except StopIteration:\r\n",
    "        # if StopIteration is raised, break from loop\r\n",
    "        break"
   ],
   "outputs": [],
   "metadata": {}
  },
  {
   "cell_type": "markdown",
   "source": [
    "Also for loop iterator is ironically an infinite while loop which calls next() function to retrieve the next element and uses this value to run the body of the for loop. When all of the elements have been exhausted, StopIteration is raised, which is internally caught, and the loop terminates. It should be noted that any other type of exception will be ignored."
   ],
   "metadata": {}
  },
  {
   "cell_type": "markdown",
   "source": [
    "### How To Create Your Custom Iterator\r\n",
    "So, for the demonstration, we will create a simple iterator that will return all values between the given range. Also, Keep in mind that an iterator object can only be used once. It indicates that after raising StopIteration once, it will continue to raise the same exception."
   ],
   "metadata": {}
  },
  {
   "cell_type": "code",
   "execution_count": 4,
   "source": [
    "class Counter(object):\r\n",
    "    def __init__(self, low, high):\r\n",
    "        self.current = low\r\n",
    "        self.high = high\r\n",
    "\r\n",
    "    def __iter__(self):\r\n",
    "        'Returns itself as an iterator object'\r\n",
    "        return self\r\n",
    "\r\n",
    "    def __next__(self):\r\n",
    "        'Returns the next value till current is lower than high'\r\n",
    "        if self.current > self.high:\r\n",
    "            raise StopIteration\r\n",
    "        else:\r\n",
    "            self.current += 1\r\n",
    "            return self.current - 1\r\n",
    "            \r\n",
    "\r\n",
    "c = Counter(5,10)\r\n",
    "\r\n",
    "for i in c:\r\n",
    "    print(i, end=' ')\r\n",
    "\r\n",
    "# You will get an error if you execute the below line\r\n",
    "# print(next(c))"
   ],
   "outputs": [
    {
     "output_type": "stream",
     "name": "stdout",
     "text": [
      "5 6 7 8 9 10 "
     ]
    }
   ],
   "metadata": {}
  },
  {
   "cell_type": "markdown",
   "source": [
    "### Why do we use Iterators?\r\n",
    "Iterators let us build and deal with lazy iterables, which means you can utilise an iterator for lazy evaluation. This allows you to access the next member of the iterator without recalculating all of the previous elements. Iterators can save us a significant amount of memory and CPU time.\r\n",
    "\r\n",
    "Python includes numerous built-in classes that are iterators, such as enumerate, map, filer, zip, and reversed, among others."
   ],
   "metadata": {}
  }
 ],
 "metadata": {
  "orig_nbformat": 4,
  "language_info": {
   "name": "python",
   "version": "3.8.8",
   "mimetype": "text/x-python",
   "codemirror_mode": {
    "name": "ipython",
    "version": 3
   },
   "pygments_lexer": "ipython3",
   "nbconvert_exporter": "python",
   "file_extension": ".py"
  },
  "kernelspec": {
   "name": "python3",
   "display_name": "Python 3.8.8 64-bit ('base': conda)"
  },
  "interpreter": {
   "hash": "434398e44183469e607e2a6981795099df29b4cddf5938cb48c3354932d31cfd"
  }
 },
 "nbformat": 4,
 "nbformat_minor": 2
}