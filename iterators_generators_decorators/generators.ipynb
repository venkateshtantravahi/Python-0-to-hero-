{
 "cells": [
  {
   "cell_type": "markdown",
   "source": [
    "# What Are Generators? \r\n",
    "The generator function is used to simplify the process of creating an iterator, it is a quick and easy technique to create iterators. All of the work stated above is done automatically via Python generators.\r\n",
    "\r\n",
    "Generator functions behave exactly like ordinary functions, with the exception that they utilise the Python yield keyword instead of return and a generator function’s output is an iterator. And the returned output can be used with either next() function or with for loop."
   ],
   "metadata": {}
  },
  {
   "cell_type": "markdown",
   "source": [
    "### How To Create A Generator \r\n",
    "In Python, creating a generator is a very easy task. It’s the same as defining a regular function, but you use a yield statement instead of a return statement.\r\n",
    "\r\n",
    "A function becomes a generator function if it contains at least one yield statement (it may also have other yield or return statements). Yield and return will both return a value from a function.\r\n",
    "\r\n",
    "The distinction is that a return statement stops a function completely, but a yield statement stops the function while storing all of its states and then continues from there on subsequent calls."
   ],
   "metadata": {}
  },
  {
   "cell_type": "code",
   "execution_count": 1,
   "source": [
    "# ---------------------------Example 1 -------------------------------------------\r\n",
    "# simple Generator\r\n",
    "def simple_generator():\r\n",
    "    num = 0\r\n",
    "    while num < 3:\r\n",
    "        yield num\r\n",
    "        num += 1\r\n",
    "\r\n",
    "\r\n",
    "# iterator = simple_generator()\r\n",
    "# print(next(iterator))\r\n",
    "# print(next(iterator))\r\n",
    "# print(next(iterator))\r\n",
    "\r\n",
    "\r\n",
    "for i in simple_generator():\r\n",
    "    print(i)\r\n",
    "# ---------------------------Example 2 -------------------------------------------\r\n",
    "# generator with multilpe \r\n",
    "print('\\n'*2, 'Example 2\\n', sep='')\r\n",
    "\r\n",
    "def generator2():\r\n",
    "    num = 1\r\n",
    "    # Generator function contains yield statements\r\n",
    "    yield num\r\n",
    "\r\n",
    "    num += 1\r\n",
    "    yield num\r\n",
    "\r\n",
    "    num += 1\r\n",
    "    yield num\r\n",
    "\r\n",
    "\r\n",
    "# Using for loop\r\n",
    "for item in generator2():\r\n",
    "    print(item)"
   ],
   "outputs": [
    {
     "output_type": "stream",
     "name": "stdout",
     "text": [
      "0\n",
      "1\n",
      "2\n",
      "\n",
      "\n",
      "Example 2\n",
      "\n",
      "1\n",
      "2\n",
      "3\n"
     ]
    }
   ],
   "metadata": {}
  },
  {
   "cell_type": "markdown",
   "source": [
    "#### What Is Generator Expression?\r\n",
    "Just like lambda function Generator expression creates an anonymous iterator, and its syntax is like list comprehension with the exception that it uses parenthesis (round bracket) instead of a square bracket. \r\n",
    "\r\n",
    "The main difference between generator expression and list comprehension is that, unlike list comprehension which outputs a list with its result, generator expression outputs an iterator that can be used with the next() function and for loop.\r\n",
    "\r\n"
   ],
   "metadata": {}
  },
  {
   "cell_type": "code",
   "execution_count": 2,
   "source": [
    "# Example of python generator expression\r\n",
    "\r\n",
    "lst = [1,2,3,4]\r\n",
    "\r\n",
    "# this generator will square all the number of the list\r\n",
    "generator = (x**2 for x in lst)\r\n",
    "\r\n",
    "# let's iterate through the generator\r\n",
    "for item in generator:\r\n",
    "  print(item)"
   ],
   "outputs": [
    {
     "output_type": "stream",
     "name": "stdout",
     "text": [
      "1\n",
      "4\n",
      "9\n",
      "16\n"
     ]
    }
   ],
   "metadata": {}
  },
  {
   "cell_type": "code",
   "execution_count": null,
   "source": [],
   "outputs": [],
   "metadata": {}
  }
 ],
 "metadata": {
  "orig_nbformat": 4,
  "language_info": {
   "name": "python",
   "version": "3.8.8",
   "mimetype": "text/x-python",
   "codemirror_mode": {
    "name": "ipython",
    "version": 3
   },
   "pygments_lexer": "ipython3",
   "nbconvert_exporter": "python",
   "file_extension": ".py"
  },
  "kernelspec": {
   "name": "python3",
   "display_name": "Python 3.8.8 64-bit ('base': conda)"
  },
  "interpreter": {
   "hash": "434398e44183469e607e2a6981795099df29b4cddf5938cb48c3354932d31cfd"
  }
 },
 "nbformat": 4,
 "nbformat_minor": 2
}